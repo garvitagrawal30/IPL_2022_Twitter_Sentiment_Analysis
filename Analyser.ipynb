{
 "cells": [
  {
   "cell_type": "markdown",
   "id": "0231a5fa",
   "metadata": {},
   "source": [
    "# Importing Necessary Libraries"
   ]
  },
  {
   "cell_type": "code",
   "execution_count": 2,
   "id": "81360f14",
   "metadata": {},
   "outputs": [
    {
     "ename": "ModuleNotFoundError",
     "evalue": "No module named 'wordcloud'",
     "output_type": "error",
     "traceback": [
      "\u001b[1;31m---------------------------------------------------------------------------\u001b[0m",
      "\u001b[1;31mModuleNotFoundError\u001b[0m                       Traceback (most recent call last)",
      "Cell \u001b[1;32mIn[2], line 4\u001b[0m\n\u001b[0;32m      2\u001b[0m \u001b[39mimport\u001b[39;00m \u001b[39mpandas\u001b[39;00m \u001b[39mas\u001b[39;00m \u001b[39mpd\u001b[39;00m\n\u001b[0;32m      3\u001b[0m \u001b[39mimport\u001b[39;00m \u001b[39mmatplotlib\u001b[39;00m\u001b[39m.\u001b[39;00m\u001b[39mpyplot\u001b[39;00m \u001b[39mas\u001b[39;00m \u001b[39mplt\u001b[39;00m\n\u001b[1;32m----> 4\u001b[0m \u001b[39mfrom\u001b[39;00m \u001b[39mwordcloud\u001b[39;00m \u001b[39mimport\u001b[39;00m WordCloud \n\u001b[0;32m      5\u001b[0m \u001b[39mimport\u001b[39;00m \u001b[39mre\u001b[39;00m  \u001b[39m# for searching common words in a string\u001b[39;00m\n\u001b[0;32m      6\u001b[0m \u001b[39mimport\u001b[39;00m \u001b[39mos\u001b[39;00m\n",
      "\u001b[1;31mModuleNotFoundError\u001b[0m: No module named 'wordcloud'"
     ]
    }
   ],
   "source": [
    "import numpy as np\n",
    "import pandas as pd\n",
    "import matplotlib.pyplot as plt\n",
    "from wordcloud import WordCloud \n",
    "import re  # for searching common words in a string\n",
    "import os"
   ]
  },
  {
   "cell_type": "markdown",
   "id": "f69083c6",
   "metadata": {},
   "source": [
    "# Installing vader sentiment analyser"
   ]
  },
  {
   "cell_type": "code",
   "execution_count": null,
   "id": "c826bdd4",
   "metadata": {},
   "outputs": [
    {
     "name": "stdout",
     "output_type": "stream",
     "text": [
      "Requirement already satisfied: vaderSentiment in c:\\users\\asus\\anaconda3\\lib\\site-packages (3.3.2)\n",
      "Requirement already satisfied: requests in c:\\users\\asus\\anaconda3\\lib\\site-packages (from vaderSentiment) (2.27.1)\n",
      "Requirement already satisfied: certifi>=2017.4.17 in c:\\users\\asus\\anaconda3\\lib\\site-packages (from requests->vaderSentiment) (2021.10.8)\n",
      "Requirement already satisfied: charset-normalizer~=2.0.0 in c:\\users\\asus\\anaconda3\\lib\\site-packages (from requests->vaderSentiment) (2.0.4)\n",
      "Requirement already satisfied: urllib3<1.27,>=1.21.1 in c:\\users\\asus\\anaconda3\\lib\\site-packages (from requests->vaderSentiment) (1.26.9)\n",
      "Requirement already satisfied: idna<4,>=2.5 in c:\\users\\asus\\anaconda3\\lib\\site-packages (from requests->vaderSentiment) (3.3)\n"
     ]
    }
   ],
   "source": [
    "!pip install vaderSentiment\n"
   ]
  },
  {
   "cell_type": "markdown",
   "id": "79c127dd",
   "metadata": {},
   "source": [
    "# Importing Vader sentiment analyzer\n"
   ]
  },
  {
   "cell_type": "code",
   "execution_count": null,
   "id": "568c28da",
   "metadata": {},
   "outputs": [],
   "source": [
    "from vaderSentiment.vaderSentiment import SentimentIntensityAnalyzer"
   ]
  },
  {
   "cell_type": "markdown",
   "id": "791dc966",
   "metadata": {},
   "source": [
    "# Importing Dataset"
   ]
  },
  {
   "cell_type": "code",
   "execution_count": null,
   "id": "3f21dacf",
   "metadata": {},
   "outputs": [
    {
     "name": "stderr",
     "output_type": "stream",
     "text": [
      "C:\\Users\\ASUS\\AppData\\Local\\Temp\\ipykernel_22784\\2560482354.py:1: DtypeWarning: Columns (5,6,7,12) have mixed types. Specify dtype option on import or set low_memory=False.\n",
      "  df = pd.read_csv ('IPL_2022_tweets.csv')\n"
     ]
    },
    {
     "data": {
      "text/html": [
       "<div>\n",
       "<style scoped>\n",
       "    .dataframe tbody tr th:only-of-type {\n",
       "        vertical-align: middle;\n",
       "    }\n",
       "\n",
       "    .dataframe tbody tr th {\n",
       "        vertical-align: top;\n",
       "    }\n",
       "\n",
       "    .dataframe thead th {\n",
       "        text-align: right;\n",
       "    }\n",
       "</style>\n",
       "<table border=\"1\" class=\"dataframe\">\n",
       "  <thead>\n",
       "    <tr style=\"text-align: right;\">\n",
       "      <th></th>\n",
       "      <th>user_name</th>\n",
       "      <th>user_location</th>\n",
       "      <th>user_description</th>\n",
       "      <th>user_created</th>\n",
       "      <th>user_followers</th>\n",
       "      <th>user_friends</th>\n",
       "      <th>user_favourites</th>\n",
       "      <th>user_verified</th>\n",
       "      <th>date</th>\n",
       "      <th>text</th>\n",
       "      <th>hashtags</th>\n",
       "      <th>source</th>\n",
       "      <th>is_retweet</th>\n",
       "    </tr>\n",
       "  </thead>\n",
       "  <tbody>\n",
       "    <tr>\n",
       "      <th>0</th>\n",
       "      <td>World Cricket Baba</td>\n",
       "      <td>india</td>\n",
       "      <td>! Links Baba:\\nhttps://t.co/L3bxQ4jPHK\\nhttps:...</td>\n",
       "      <td>2022-04-13 06:34:29</td>\n",
       "      <td>1076.0</td>\n",
       "      <td>63.0</td>\n",
       "      <td>699.0</td>\n",
       "      <td>False</td>\n",
       "      <td>2022-06-20 22:00:03</td>\n",
       "      <td>👉World Cricket Baba!👈 Top Countries With the \\...</td>\n",
       "      <td>['cricketBaba', 'IPL2022', 'Cricket', 'Deltin7...</td>\n",
       "      <td>Postify1</td>\n",
       "      <td>False</td>\n",
       "    </tr>\n",
       "    <tr>\n",
       "      <th>1</th>\n",
       "      <td>The Times Of India</td>\n",
       "      <td>New Delhi</td>\n",
       "      <td>News. Views. Analysis. Conversations. India’s ...</td>\n",
       "      <td>2010-04-19 10:50:15</td>\n",
       "      <td>14429584.0</td>\n",
       "      <td>457.0</td>\n",
       "      <td>6.0</td>\n",
       "      <td>True</td>\n",
       "      <td>2022-06-20 21:30:00</td>\n",
       "      <td>How fans of @ViratGang @BoldBrigade @Fanaticso...</td>\n",
       "      <td>['IPL2022', 'RCB', 'MI', 'CSK', 'TOISportscast']</td>\n",
       "      <td>Twitter Web App</td>\n",
       "      <td>False</td>\n",
       "    </tr>\n",
       "    <tr>\n",
       "      <th>2</th>\n",
       "      <td>World Cricket Baba</td>\n",
       "      <td>india</td>\n",
       "      <td>! Links Baba:\\nhttps://t.co/L3bxQ4jPHK\\nhttps:...</td>\n",
       "      <td>2022-04-13 06:34:29</td>\n",
       "      <td>1076.0</td>\n",
       "      <td>63.0</td>\n",
       "      <td>699.0</td>\n",
       "      <td>False</td>\n",
       "      <td>2022-06-20 20:00:24</td>\n",
       "      <td>👉World Cricket Baba!👈 Top Countries With the \\...</td>\n",
       "      <td>['cricketBaba', 'IPL2022', 'Cricket', 'Deltin7...</td>\n",
       "      <td>Postify1</td>\n",
       "      <td>False</td>\n",
       "    </tr>\n",
       "    <tr>\n",
       "      <th>3</th>\n",
       "      <td>𝕊𝕠𝕔𝕚𝕒𝕝 𝔸𝕟𝕚𝕞𝕒𝕝</td>\n",
       "      <td>India</td>\n",
       "      <td>I’m here to avoid my friends on Facebook.</td>\n",
       "      <td>2013-10-15 04:34:14</td>\n",
       "      <td>124.0</td>\n",
       "      <td>502.0</td>\n",
       "      <td>2675.0</td>\n",
       "      <td>False</td>\n",
       "      <td>2022-06-20 19:10:00</td>\n",
       "      <td>@Chigurupati_H WOW!!\\n3 ducks with 3 chicks!!\\...</td>\n",
       "      <td>['IPL2022']</td>\n",
       "      <td>Twitter for Android</td>\n",
       "      <td>False</td>\n",
       "    </tr>\n",
       "    <tr>\n",
       "      <th>4</th>\n",
       "      <td>World Cricket Baba</td>\n",
       "      <td>india</td>\n",
       "      <td>! Links Baba:\\nhttps://t.co/L3bxQ4jPHK\\nhttps:...</td>\n",
       "      <td>2022-04-13 06:34:29</td>\n",
       "      <td>1076.0</td>\n",
       "      <td>63.0</td>\n",
       "      <td>699.0</td>\n",
       "      <td>False</td>\n",
       "      <td>2022-06-20 19:00:18</td>\n",
       "      <td>👉World Cricket Baba!👈 Top Countries With the \\...</td>\n",
       "      <td>['cricketBaba', 'IPL2022', 'Cricket', 'Deltin7...</td>\n",
       "      <td>Postify1</td>\n",
       "      <td>False</td>\n",
       "    </tr>\n",
       "  </tbody>\n",
       "</table>\n",
       "</div>"
      ],
      "text/plain": [
       "            user_name user_location  \\\n",
       "0  World Cricket Baba         india   \n",
       "1  The Times Of India     New Delhi   \n",
       "2  World Cricket Baba         india   \n",
       "3       𝕊𝕠𝕔𝕚𝕒𝕝 𝔸𝕟𝕚𝕞𝕒𝕝         India   \n",
       "4  World Cricket Baba         india   \n",
       "\n",
       "                                    user_description         user_created  \\\n",
       "0  ! Links Baba:\\nhttps://t.co/L3bxQ4jPHK\\nhttps:...  2022-04-13 06:34:29   \n",
       "1  News. Views. Analysis. Conversations. India’s ...  2010-04-19 10:50:15   \n",
       "2  ! Links Baba:\\nhttps://t.co/L3bxQ4jPHK\\nhttps:...  2022-04-13 06:34:29   \n",
       "3          I’m here to avoid my friends on Facebook.  2013-10-15 04:34:14   \n",
       "4  ! Links Baba:\\nhttps://t.co/L3bxQ4jPHK\\nhttps:...  2022-04-13 06:34:29   \n",
       "\n",
       "   user_followers user_friends user_favourites user_verified  \\\n",
       "0          1076.0         63.0           699.0         False   \n",
       "1      14429584.0        457.0             6.0          True   \n",
       "2          1076.0         63.0           699.0         False   \n",
       "3           124.0        502.0          2675.0         False   \n",
       "4          1076.0         63.0           699.0         False   \n",
       "\n",
       "                  date                                               text  \\\n",
       "0  2022-06-20 22:00:03  👉World Cricket Baba!👈 Top Countries With the \\...   \n",
       "1  2022-06-20 21:30:00  How fans of @ViratGang @BoldBrigade @Fanaticso...   \n",
       "2  2022-06-20 20:00:24  👉World Cricket Baba!👈 Top Countries With the \\...   \n",
       "3  2022-06-20 19:10:00  @Chigurupati_H WOW!!\\n3 ducks with 3 chicks!!\\...   \n",
       "4  2022-06-20 19:00:18  👉World Cricket Baba!👈 Top Countries With the \\...   \n",
       "\n",
       "                                            hashtags               source  \\\n",
       "0  ['cricketBaba', 'IPL2022', 'Cricket', 'Deltin7...             Postify1   \n",
       "1   ['IPL2022', 'RCB', 'MI', 'CSK', 'TOISportscast']      Twitter Web App   \n",
       "2  ['cricketBaba', 'IPL2022', 'Cricket', 'Deltin7...             Postify1   \n",
       "3                                        ['IPL2022']  Twitter for Android   \n",
       "4  ['cricketBaba', 'IPL2022', 'Cricket', 'Deltin7...             Postify1   \n",
       "\n",
       "  is_retweet  \n",
       "0      False  \n",
       "1      False  \n",
       "2      False  \n",
       "3      False  \n",
       "4      False  "
      ]
     },
     "execution_count": 4,
     "metadata": {},
     "output_type": "execute_result"
    }
   ],
   "source": [
    "df = pd.read_csv ('IPL_2022_tweets.csv')\n",
    "df.head()"
   ]
  },
  {
   "cell_type": "markdown",
   "id": "b1d41d3e",
   "metadata": {},
   "source": [
    "# Analysing the dataset"
   ]
  },
  {
   "cell_type": "code",
   "execution_count": null,
   "id": "b0a24e22",
   "metadata": {},
   "outputs": [
    {
     "data": {
      "text/plain": [
       "(574664, 13)"
      ]
     },
     "execution_count": 5,
     "metadata": {},
     "output_type": "execute_result"
    }
   ],
   "source": [
    "df.shape"
   ]
  },
  {
   "cell_type": "code",
   "execution_count": null,
   "id": "285ec5c5",
   "metadata": {},
   "outputs": [
    {
     "name": "stdout",
     "output_type": "stream",
     "text": [
      "<class 'pandas.core.frame.DataFrame'>\n",
      "RangeIndex: 574664 entries, 0 to 574663\n",
      "Data columns (total 13 columns):\n",
      " #   Column            Non-Null Count   Dtype  \n",
      "---  ------            --------------   -----  \n",
      " 0   user_name         574664 non-null  object \n",
      " 1   user_location     384107 non-null  object \n",
      " 2   user_description  492538 non-null  object \n",
      " 3   user_created      574655 non-null  object \n",
      " 4   user_followers    574649 non-null  float64\n",
      " 5   user_friends      574649 non-null  object \n",
      " 6   user_favourites   574649 non-null  object \n",
      " 7   user_verified     574649 non-null  object \n",
      " 8   date              574649 non-null  object \n",
      " 9   text              574649 non-null  object \n",
      " 10  hashtags          574620 non-null  object \n",
      " 11  source            574640 non-null  object \n",
      " 12  is_retweet        574640 non-null  object \n",
      "dtypes: float64(1), object(12)\n",
      "memory usage: 57.0+ MB\n"
     ]
    }
   ],
   "source": [
    "df.info()"
   ]
  },
  {
   "cell_type": "code",
   "execution_count": null,
   "id": "8f9173e7",
   "metadata": {},
   "outputs": [
    {
     "data": {
      "text/plain": [
       "user_name                0\n",
       "user_location       190557\n",
       "user_description     82126\n",
       "user_created             9\n",
       "user_followers          15\n",
       "user_friends            15\n",
       "user_favourites         15\n",
       "user_verified           15\n",
       "date                    15\n",
       "text                    15\n",
       "hashtags                44\n",
       "source                  24\n",
       "is_retweet              24\n",
       "dtype: int64"
      ]
     },
     "execution_count": 7,
     "metadata": {},
     "output_type": "execute_result"
    }
   ],
   "source": [
    "df.isnull().sum()"
   ]
  },
  {
   "cell_type": "markdown",
   "id": "164f4148",
   "metadata": {},
   "source": [
    "# Copying text to perform EDA"
   ]
  },
  {
   "cell_type": "code",
   "execution_count": null,
   "id": "b14ea377",
   "metadata": {},
   "outputs": [],
   "source": [
    "df['senttext'] = df['text']"
   ]
  },
  {
   "cell_type": "markdown",
   "id": "c385432b",
   "metadata": {},
   "source": [
    "# Conterting all string data to lowercase"
   ]
  },
  {
   "cell_type": "code",
   "execution_count": null,
   "id": "ab4d426e",
   "metadata": {},
   "outputs": [],
   "source": [
    "df = df.apply(lambda x: x.astype(str).str.lower())"
   ]
  },
  {
   "cell_type": "code",
   "execution_count": null,
   "id": "15297476",
   "metadata": {},
   "outputs": [
    {
     "data": {
      "text/plain": [
       "<AxesSubplot:>"
      ]
     },
     "execution_count": 10,
     "metadata": {},
     "output_type": "execute_result"
    },
    {
     "name": "stderr",
     "output_type": "stream",
     "text": [
      "C:\\Users\\ASUS\\anaconda3\\lib\\site-packages\\IPython\\core\\pylabtools.py:151: UserWarning: Glyph 127470 (\\N{REGIONAL INDICATOR SYMBOL LETTER I}) missing from current font.\n",
      "  fig.canvas.print_figure(bytes_io, **kw)\n",
      "C:\\Users\\ASUS\\anaconda3\\lib\\site-packages\\IPython\\core\\pylabtools.py:151: UserWarning: Glyph 127475 (\\N{REGIONAL INDICATOR SYMBOL LETTER N}) missing from current font.\n",
      "  fig.canvas.print_figure(bytes_io, **kw)\n"
     ]
    },
    {
     "data": {
      "image/png": "[encoded data removed]",
      "text/plain": [
       "<Figure size 1800x720 with 1 Axes>"
      ]
     },
     "metadata": {
      "needs_background": "light"
     },
     "output_type": "display_data"
    }
   ],
   "source": [
    "loc_df = df[df.user_location != 'nan']\n",
    "loc_df.user_location.value_counts().nlargest(20).plot(kind='bar',figsize=(25,10))"
   ]
  },
  {
   "cell_type": "code",
   "execution_count": null,
   "id": "3ebb26c8",
   "metadata": {
    "scrolled": true
   },
   "outputs": [
    {
     "data": {
      "text/plain": [
       "<function matplotlib.pyplot.show(close=None, block=None)>"
      ]
     },
     "execution_count": 11,
     "metadata": {},
     "output_type": "execute_result"
    },
    {
     "data": {
      "image/png": "[encoded data removed]",
      "text/plain": [
       "<Figure size 1800x720 with 1 Axes>"
      ]
     },
     "metadata": {
      "needs_background": "light"
     },
     "output_type": "display_data"
    }
   ],
   "source": [
    "indian_cities = {}\n",
    "indian_ipl_cities = ['mumbai','bangalore','chennai','delhi','kolkata','lucknow','ahmedabad','hyderabad','punjab','jaipur']\n",
    "for city in indian_ipl_cities:\n",
    "    indian_cities[city] = df.user_location.str.count(city).sum()\n",
    "    \n",
    "plt.figure(figsize=(25,10))\n",
    "plt.bar(*zip(*indian_cities.items()))\n",
    "plt.show"
   ]
  },
  {
   "cell_type": "markdown",
   "id": "4b7072da",
   "metadata": {},
   "source": [
    "Checking if the user account is verified or not"
   ]
  },
  {
   "cell_type": "code",
   "execution_count": null,
   "id": "c95f7f0c",
   "metadata": {},
   "outputs": [
    {
     "data": {
      "text/plain": [
       "<AxesSubplot:>"
      ]
     },
     "execution_count": 12,
     "metadata": {},
     "output_type": "execute_result"
    },
    {
     "data": {
      "image/png": "[encoded data removed]",
      "text/plain": [
       "<Figure size 432x288 with 1 Axes>"
      ]
     },
     "metadata": {
      "needs_background": "light"
     },
     "output_type": "display_data"
    }
   ],
   "source": [
    "df.user_verified.value_counts().nlargest(2).plot(kind='bar')"
   ]
  },
  {
   "cell_type": "markdown",
   "id": "7c0cb0e1",
   "metadata": {},
   "source": [
    "This shows that most of the users are not verified"
   ]
  },
  {
   "cell_type": "markdown",
   "id": "b8b839be",
   "metadata": {},
   "source": [
    "# Checking most commonly using hastags"
   ]
  },
  {
   "cell_type": "code",
   "execution_count": null,
   "id": "68e12f99",
   "metadata": {},
   "outputs": [
    {
     "data": {
      "text/plain": [
       "<AxesSubplot:>"
      ]
     },
     "execution_count": 13,
     "metadata": {},
     "output_type": "execute_result"
    },
    {
     "data": {
      "image/png": "[encoded data removed]",
      "text/plain": [
       "<Figure size 1440x576 with 1 Axes>"
      ]
     },
     "metadata": {
      "needs_background": "light"
     },
     "output_type": "display_data"
    }
   ],
   "source": [
    "hashtag_df = df[df.hashtags != 'nan']\n",
    "hashtag_df.hashtags.value_counts().nlargest(5).plot(kind='bar', rot=0, figsize=(20,8))"
   ]
  },
  {
   "cell_type": "markdown",
   "id": "7e6ada23",
   "metadata": {},
   "source": [
    "#ipl2022 is most commonly used hashtag"
   ]
  },
  {
   "cell_type": "code",
   "execution_count": null,
   "id": "50ff5d25",
   "metadata": {},
   "outputs": [
    {
     "name": "stderr",
     "output_type": "stream",
     "text": [
      "C:\\Users\\ASUS\\anaconda3\\lib\\site-packages\\scipy\\__init__.py:146: UserWarning: A NumPy version >=1.16.5 and <1.23.0 is required for this version of SciPy (detected version 1.24.2\n",
      "  warnings.warn(f\"A NumPy version >={np_minversion} and <{np_maxversion}\"\n",
      "[nltk_data] Downloading package stopwords to\n",
      "[nltk_data]     C:\\Users\\ASUS\\AppData\\Roaming\\nltk_data...\n",
      "[nltk_data]   Package stopwords is already up-to-date!\n"
     ]
    },
    {
     "data": {
      "text/plain": [
       "True"
      ]
     },
     "execution_count": 14,
     "metadata": {},
     "output_type": "execute_result"
    }
   ],
   "source": [
    "import nltk\n",
    "nltk.download('stopwords')"
   ]
  },
  {
   "cell_type": "markdown",
   "id": "0dfb1e8a",
   "metadata": {},
   "source": [
    "#  Preprocessing the data"
   ]
  },
  {
   "cell_type": "code",
   "execution_count": null,
   "id": "3948d55a",
   "metadata": {},
   "outputs": [],
   "source": [
    "from nltk.corpus import stopwords\n",
    "\n",
    "stop_words = stopwords.words('english')\n",
    "df.text = df.text.apply(lambda x:' '.join([word for word in x.split() if word not in (stop_words)]))"
   ]
  },
  {
   "cell_type": "code",
   "execution_count": null,
   "id": "b3b21ab8",
   "metadata": {},
   "outputs": [],
   "source": [
    "df.text = df.text.apply(lambda x: ' '.join(re.sub(\"(@[A-Za-z0-9]+)|(#[A-Za-z0-9]+)\", \" \", x).split()))"
   ]
  },
  {
   "cell_type": "code",
   "execution_count": null,
   "id": "d847266b",
   "metadata": {},
   "outputs": [],
   "source": [
    "df.text = df.text.apply(lambda x: ' '.join(re.sub(\"[\\.\\,\\!\\?\\:\\;\\-\\=\\_\\'\\*\\\"|(|)]\", \" \", x).split()))"
   ]
  },
  {
   "cell_type": "code",
   "execution_count": null,
   "id": "d228988b",
   "metadata": {},
   "outputs": [],
   "source": [
    "df.text = df.text.apply(lambda x: ' '.join(re.sub(r'http\\S+', '',x).split()))"
   ]
  },
  {
   "cell_type": "code",
   "execution_count": null,
   "id": "589bdc5d",
   "metadata": {},
   "outputs": [
    {
     "data": {
      "text/plain": [
       "0    👉world cricket baba 👈 top countries 🏆 best cri...\n",
       "1    fans reacted two new ipl teams gujarat titans ...\n",
       "2    👉world cricket baba 👈 top countries 🏆 best cri...\n",
       "3                               h wow 3 ducks 3 chicks\n",
       "4    👉world cricket baba 👈 top countries 🏆 best cri...\n",
       "Name: text, dtype: object"
      ]
     },
     "execution_count": 19,
     "metadata": {},
     "output_type": "execute_result"
    }
   ],
   "source": [
    "df.text.head()"
   ]
  },
  {
   "cell_type": "markdown",
   "id": "2bd8fb46",
   "metadata": {},
   "source": [
    "Data is cleaned except emojis"
   ]
  },
  {
   "cell_type": "markdown",
   "id": "30817594",
   "metadata": {},
   "source": [
    "# Creating a wordcloud"
   ]
  },
  {
   "cell_type": "code",
   "execution_count": null,
   "id": "ad361ec4",
   "metadata": {},
   "outputs": [
    {
     "data": {
      "image/png": "[encoded data removed]",
      "text/plain": [
       "<Figure size 432x288 with 1 Axes>"
      ]
     },
     "metadata": {
      "needs_background": "light"
     },
     "output_type": "display_data"
    }
   ],
   "source": [
    "wordcloud = WordCloud(\n",
    "                          background_color='white',\n",
    "                          colormap='Reds',\n",
    "                          max_words=200,\n",
    "                          max_font_size=40, \n",
    "                          random_state=49\n",
    "                         ).generate(str(df['text']))\n",
    "\n",
    "plt.imshow(wordcloud)\n",
    "plt.axis('off')\n",
    "plt.show()"
   ]
  },
  {
   "cell_type": "markdown",
   "id": "4e957a0f",
   "metadata": {},
   "source": [
    "# Replacing the emojis"
   ]
  },
  {
   "cell_type": "code",
   "execution_count": null,
   "id": "af085d7d",
   "metadata": {},
   "outputs": [],
   "source": [
    "try:\n",
    "    # UCS-4\n",
    "    e = re.compile(u'[\\U00010000-\\U0010ffff]')\n",
    "except re.error:\n",
    "    # UCS-2\n",
    "    e = re.compile(u'[\\uD800-\\uDBFF][\\uDC00-\\uDFFF]')\n",
    "emojis = []\n",
    "for x in df.text:\n",
    "    match  = e.search(x)\n",
    "    if match:\n",
    "        emojis.append(match.group())"
   ]
  },
  {
   "cell_type": "code",
   "execution_count": null,
   "id": "23c5bef6",
   "metadata": {},
   "outputs": [
    {
     "data": {
      "text/plain": [
       "🔥    12132\n",
       "🏏    10334\n",
       "👉     6741\n",
       "𓃵     6147\n",
       "😍     5583\n",
       "😂     4358\n",
       "💛     4206\n",
       "👏     3941\n",
       "🏆     3237\n",
       "𓃬     3094\n",
       "dtype: int64"
      ]
     },
     "execution_count": 32,
     "metadata": {},
     "output_type": "execute_result"
    }
   ],
   "source": [
    "dfe =  pd.DataFrame(emojis,columns=['text'])\n",
    "pd.Series(' '.join(dfe['text']).lower().split()).value_counts()[:10]"
   ]
  },
  {
   "cell_type": "markdown",
   "id": "89ed9db7",
   "metadata": {},
   "source": [
    "# Finding similar words using word2vec"
   ]
  },
  {
   "cell_type": "code",
   "execution_count": null,
   "id": "42698909",
   "metadata": {},
   "outputs": [
    {
     "name": "stdout",
     "output_type": "stream",
     "text": [
      "Training model...\n"
     ]
    },
    {
     "name": "stderr",
     "output_type": "stream",
     "text": [
      "C:\\Users\\ASUS\\AppData\\Local\\Temp\\ipykernel_22784\\3546914480.py:14: DeprecationWarning: Call to deprecated `init_sims` (Gensim 4.0.0 implemented internal optimizations that make calls to init_sims() unnecessary. init_sims() is now obsoleted and will be completely removed in future versions. See https://github.com/RaRe-Technologies/gensim/wiki/Migrating-from-Gensim-3.x-to-4).\n",
      "  wv_model.init_sims(replace=True)\n"
     ]
    }
   ],
   "source": [
    "num_features = 400    # Word vector dimensionality                      \n",
    "min_word_count = 5   # Minimum word count                        \n",
    "num_workers = 4       # Number of threads to run in parallel\n",
    "context = 10          # Context window size                                                                                    \n",
    "downsampling = 1e-3   # Downsample setting for frequent words\n",
    "\n",
    "wt = [list(x.split()) for x in df.text]\n",
    "from gensim.models import word2vec\n",
    "print (\"Training model...\")\n",
    "wv_model = word2vec.Word2Vec(wt, workers=num_workers, \\\n",
    "            vector_size=num_features, min_count = min_word_count, \\\n",
    "            window = context, sample = downsampling)\n",
    "\n",
    "wv_model.init_sims(replace=True)"
   ]
  },
  {
   "cell_type": "code",
   "execution_count": null,
   "id": "e2b60585",
   "metadata": {},
   "outputs": [
    {
     "data": {
      "text/plain": [
       "[('ipl2022', 0.45069894194602966),\n",
       " ('interestingly', 0.4284207224845886),\n",
       " ('registered', 0.40067049860954285),\n",
       " ('creates', 0.38967469334602356),\n",
       " ('become', 0.37855225801467896),\n",
       " ('confirmed', 0.37611812353134155),\n",
       " ('edition', 0.37492138147354126),\n",
       " ('icc', 0.37490081787109375),\n",
       " ('season', 0.37394237518310547),\n",
       " ('stat', 0.37317168712615967)]"
      ]
     },
     "execution_count": 34,
     "metadata": {},
     "output_type": "execute_result"
    }
   ],
   "source": [
    "wv_model.wv.most_similar(\"ipl\") \n"
   ]
  },
  {
   "cell_type": "code",
   "execution_count": null,
   "id": "81b4b542",
   "metadata": {},
   "outputs": [
    {
     "data": {
      "text/plain": [
       "[('dhoni’s', 0.8232691287994385),\n",
       " ('msd', 0.6501485705375671),\n",
       " ('dhoni🔥', 0.5992487668991089),\n",
       " ('dharamshala', 0.4801568388938904),\n",
       " ('becuz', 0.4535444378852844),\n",
       " ('whosoever', 0.4243617057800293),\n",
       " ('characteristics', 0.422791063785553),\n",
       " ('jaddu', 0.4092290699481964),\n",
       " ('thala', 0.4061024487018585),\n",
       " ('mahi', 0.4032473564147949)]"
      ]
     },
     "execution_count": 35,
     "metadata": {},
     "output_type": "execute_result"
    }
   ],
   "source": [
    "wv_model.wv.most_similar(\"dhoni\") \n"
   ]
  },
  {
   "cell_type": "code",
   "execution_count": null,
   "id": "13f08751",
   "metadata": {},
   "outputs": [
    {
     "data": {
      "text/plain": [
       "[('captaincy', 0.7064322233200073),\n",
       " ('captaining', 0.6067964434623718),\n",
       " ('skipper', 0.5968765020370483),\n",
       " ('leader', 0.5787372589111328),\n",
       " ('leadership', 0.5774898529052734),\n",
       " ('captains', 0.5572407245635986),\n",
       " ('lead', 0.5567924976348877),\n",
       " ('versa', 0.5195139646530151),\n",
       " ('captainship', 0.48884057998657227),\n",
       " ('captained', 0.4811829924583435)]"
      ]
     },
     "execution_count": 36,
     "metadata": {},
     "output_type": "execute_result"
    }
   ],
   "source": [
    "wv_model.wv.most_similar(\"captain\") \n"
   ]
  },
  {
   "cell_type": "markdown",
   "id": "f2412ddc",
   "metadata": {},
   "source": [
    "# Now applying VADER sentiment analyser"
   ]
  },
  {
   "cell_type": "code",
   "execution_count": null,
   "id": "f88a6615",
   "metadata": {},
   "outputs": [],
   "source": [
    "analyser = SentimentIntensityAnalyzer()\n",
    "df['sentiment_score'] = df['senttext'].apply(lambda x: analyser.polarity_scores(str(x)))"
   ]
  },
  {
   "cell_type": "code",
   "execution_count": null,
   "id": "76f2053e",
   "metadata": {},
   "outputs": [],
   "source": [
    "def sentiment_func(sentiment):\n",
    "    for k,v in sentiment.items():\n",
    "        if (k== 'pos' or k or 'neg' or k == 'neu') == True:\n",
    "            if (sentiment['pos'] > 0.5 and sentiment['neg'] < 0.5 and sentiment['neu'] < 0.5) == True:\n",
    "                return 'positive'\n",
    "            elif (sentiment['pos'] < 0.5 and sentiment['neg'] > 0.5 and sentiment['neu'] < 0.5) == True:\n",
    "                return 'negative'\n",
    "            elif (sentiment['pos'] < 0.5 and sentiment['neg'] < 0.5 and sentiment['neu'] > 0.5) == True:\n",
    "                return 'neutral'\n",
    "\n",
    "df['sentiment'] = df['sentiment_score'].apply(sentiment_func)"
   ]
  },
  {
   "cell_type": "code",
   "execution_count": null,
   "id": "232444c2",
   "metadata": {},
   "outputs": [
    {
     "data": {
      "text/plain": [
       "<AxesSubplot:>"
      ]
     },
     "execution_count": 39,
     "metadata": {},
     "output_type": "execute_result"
    },
    {
     "data": {
      "image/png": "[encoded data removed]",
      "text/plain": [
       "<Figure size 432x288 with 1 Axes>"
      ]
     },
     "metadata": {
      "needs_background": "light"
     },
     "output_type": "display_data"
    }
   ],
   "source": [
    "df.sentiment.value_counts().plot(kind='bar', rot=0)"
   ]
  },
  {
   "cell_type": "code",
   "execution_count": null,
   "id": "0c29f070",
   "metadata": {},
   "outputs": [
    {
     "data": {
      "text/plain": [
       "neutral     561264\n",
       "positive      7146\n",
       "negative      1324\n",
       "Name: sentiment, dtype: int64"
      ]
     },
     "execution_count": 40,
     "metadata": {},
     "output_type": "execute_result"
    }
   ],
   "source": [
    "df.sentiment.value_counts()"
   ]
  },
  {
   "cell_type": "markdown",
   "id": "2e3820e9",
   "metadata": {},
   "source": [
    "Most the tweets are neutral. This can be due to most tweets just containing score updates or match updates.\n",
    "\n",
    "Number of positive tweets are more than negative. Seems like people were very happy with tournament happening at such difficult time and people got excited and happy to see their favorite cricketers back on pitch."
   ]
  },
  {
   "cell_type": "code",
   "execution_count": null,
   "id": "917c9d9e",
   "metadata": {},
   "outputs": [
    {
     "name": "stderr",
     "output_type": "stream",
     "text": [
      "[nltk_data] Downloading package vader_lexicon to\n",
      "[nltk_data]     C:\\Users\\ASUS\\AppData\\Roaming\\nltk_data...\n"
     ]
    },
    {
     "data": {
      "text/plain": [
       "True"
      ]
     },
     "execution_count": 45,
     "metadata": {},
     "output_type": "execute_result"
    }
   ],
   "source": [
    "nltk.download('vader_lexicon')"
   ]
  },
  {
   "cell_type": "code",
   "execution_count": null,
   "id": "b92c4c30",
   "metadata": {},
   "outputs": [
    {
     "name": "stdout",
     "output_type": "stream",
     "text": [
      "Enter your value: happy\n"
     ]
    }
   ],
   "source": [
    "val = input(\"Enter your value: \")"
   ]
  },
  {
   "cell_type": "code",
   "execution_count": null,
   "id": "d384dd89",
   "metadata": {},
   "outputs": [
    {
     "data": {
      "text/plain": [
       "{'neg': 0.0, 'neu': 0.0, 'pos': 1.0, 'compound': 0.5719}"
      ]
     },
     "execution_count": 6,
     "metadata": {},
     "output_type": "execute_result"
    }
   ],
   "source": [
    "\n",
    "from nltk.sentiment.vader import SentimentIntensityAnalyzer\n",
    "analyser2 = SentimentIntensityAnalyzer()\n",
    "sentiment = analyser2.polarity_scores(val)\n",
    "sentiment"
   ]
  },
  {
   "cell_type": "code",
   "execution_count": null,
   "id": "132da1e5",
   "metadata": {},
   "outputs": [],
   "source": []
  }
 ],
 "metadata": {
  "kernelspec": {
   "display_name": "Python 3 (ipykernel)",
   "language": "python",
   "name": "python3"
  },
  "language_info": {
   "codemirror_mode": {
    "name": "ipython",
    "version": 3
   },
   "file_extension": ".py",
   "mimetype": "text/x-python",
   "name": "python",
   "nbconvert_exporter": "python",
   "pygments_lexer": "ipython3",
   "version": "3.11.0"
  }
 },
 "nbformat": 4,
 "nbformat_minor": 5
}
